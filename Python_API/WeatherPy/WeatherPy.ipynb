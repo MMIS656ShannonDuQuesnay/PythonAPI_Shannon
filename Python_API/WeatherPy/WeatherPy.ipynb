{
 "cells": [
  {
   "cell_type": "markdown",
   "metadata": {},
   "source": [
    "# WeatherPy\n",
    "----\n",
    "\n",
    "#### Note\n",
    "* Instructions have been included for each segment. You do not have to follow them exactly, but they are included to help you think through the steps."
   ]
  },
  {
   "cell_type": "code",
   "execution_count": 1,
   "metadata": {
    "scrolled": true
   },
   "outputs": [],
   "source": [
    "# Dependencies and Setup\n",
    "import matplotlib.pyplot as plt\n",
    "import pandas as pd\n",
    "import numpy as np\n",
    "import requests\n",
    "import time\n",
    "from scipy.stats import linregress\n",
    "import json\n",
    "from datetime import datetime\n",
    "\n",
    "# Import API key\n",
    "from api_keys import weather_api_key\n",
    "\n",
    "# Incorporated citipy to determine city based on latitude and longitude\n",
    "from citipy import citipy\n",
    "\n",
    "# Output File (CSV)\n",
    "output_data_file = \"output_data/cities.csv\"\n",
    "\n",
    "# Range of latitudes and longitudes\n",
    "lat_range = (-90, 90)\n",
    "lng_range = (-180, 180)"
   ]
  },
  {
   "cell_type": "markdown",
   "metadata": {},
   "source": [
    "## Generate Cities List"
   ]
  },
  {
   "cell_type": "code",
   "execution_count": 2,
   "metadata": {},
   "outputs": [
    {
     "data": {
      "text/plain": [
       "589"
      ]
     },
     "execution_count": 2,
     "metadata": {},
     "output_type": "execute_result"
    }
   ],
   "source": [
    "# List for holding lat_lngs and cities\n",
    "lat_lngs = []\n",
    "cities = []\n",
    "\n",
    "# Create a set of random lat and lng combinations\n",
    "lats = np.random.uniform(lat_range[0], lat_range[1], size=1500)\n",
    "lngs = np.random.uniform(lng_range[0], lng_range[1], size=1500)\n",
    "lat_lngs = zip(lats, lngs)\n",
    "\n",
    "# Identify nearest city for each lat, lng combination\n",
    "for lat_lng in lat_lngs:\n",
    "    city = citipy.nearest_city(lat_lng[0], lat_lng[1]).city_name\n",
    "    \n",
    "    # If the city is unique, then add it to a our cities list\n",
    "    if city not in cities:\n",
    "        cities.append(city)\n",
    "\n",
    "# Print the city count to confirm sufficient count\n",
    "len(cities)"
   ]
  },
  {
   "cell_type": "code",
   "execution_count": 4,
   "metadata": {
    "scrolled": true
   },
   "outputs": [
    {
     "name": "stdout",
     "output_type": "stream",
     "text": [
      "Processing record 1|mataura\n",
      "Processing record 2|vao\n",
      "Processing record 3|port elizabeth\n",
      "Processing record 4|punta arenas\n",
      "Processing record 5|viedma\n",
      "Processing record 6|tarko-sale\n",
      "Processing record 7|atuona\n",
      "Processing record 8|takoradi\n",
      "Processing record 9|araouane\n",
      "Processing record 10|jamestown\n",
      "Processing record 11|rikitea\n",
      "City not found. skipping.\n",
      "Processing record 12|terrasini\n",
      "Processing record 13|tiksi\n",
      "Processing record 14|provideniya\n",
      "Processing record 15|castro\n",
      "Processing record 16|hilo\n",
      "Processing record 17|khatanga\n",
      "Processing record 18|ushuaia\n",
      "Processing record 19|srednekolymsk\n",
      "Processing record 20|morondava\n",
      "Processing record 21|katsuura\n",
      "Processing record 22|tuktoyaktuk\n",
      "Processing record 23|cayenne\n",
      "Processing record 24|kununurra\n",
      "City not found. skipping.\n",
      "Processing record 25|qaanaaq\n",
      "Processing record 26|jian\n",
      "Processing record 27|irricana\n",
      "Processing record 28|te anau\n",
      "City not found. skipping.\n",
      "Processing record 29|busselton\n",
      "Processing record 30|vestmanna\n",
      "Processing record 31|severo-kurilsk\n",
      "Processing record 32|bac lieu\n",
      "Processing record 33|pangnirtung\n",
      "Processing record 34|new norfolk\n",
      "Processing record 35|nikolskoye\n",
      "Processing record 36|athens\n",
      "Processing record 37|talavera de la reina\n",
      "Processing record 38|coahuayana\n",
      "Processing record 39|alice springs\n",
      "Processing record 40|paidha\n",
      "Processing record 41|beringovskiy\n",
      "Processing record 42|puerto ayora\n",
      "Processing record 43|faya\n",
      "City not found. skipping.\n",
      "Processing record 44|hami\n",
      "Processing record 45|bredasdorp\n",
      "Processing record 46|vaini\n",
      "Processing record 47|kapaa\n",
      "Processing record 48|pevek\n",
      "Processing record 49|bethel\n",
      "Processing record 50|tabou\n",
      "Processing record 51|naze\n",
      "Processing record 52|xuanhua\n",
      "Processing record 53|ixtapa\n",
      "Processing record 54|lorengau\n",
      "Processing record 55|souillac\n",
      "Processing record 56|mach\n",
      "Processing record 57|cape town\n",
      "Processing record 58|san quintin\n",
      "Processing record 59|yazykovo\n",
      "Processing record 60|mezen\n",
      "Processing record 61|airai\n",
      "Processing record 62|saint-philippe\n",
      "Processing record 63|rajula\n",
      "Processing record 64|hobart\n",
      "Processing record 65|lebu\n",
      "Processing record 66|mar del plata\n",
      "Processing record 67|hasaki\n",
      "Processing record 68|bluff\n",
      "City not found. skipping.\n",
      "Processing record 69|petropavlovsk-kamchatskiy\n",
      "Processing record 70|murray bridge\n",
      "Processing record 71|mus\n",
      "Processing record 72|sinnamary\n",
      "Processing record 73|qaqortoq\n",
      "Processing record 74|dingle\n",
      "Processing record 75|albany\n",
      "Processing record 76|zarcero\n",
      "Processing record 77|lagoa\n",
      "Processing record 78|cozumel\n",
      "Processing record 79|krasnoselkup\n",
      "Processing record 80|faanui\n",
      "Processing record 81|sao filipe\n",
      "Processing record 82|bekhtery\n",
      "Processing record 83|norman wells\n",
      "Processing record 84|vanimo\n",
      "Processing record 85|avarua\n",
      "Processing record 86|cururupu\n",
      "City not found. skipping.\n",
      "Processing record 87|wajima\n",
      "Processing record 88|ilulissat\n",
      "Processing record 89|zunheboto\n",
      "Processing record 90|treinta y tres\n",
      "City not found. skipping.\n",
      "Processing record 91|okha\n",
      "Processing record 92|thinadhoo\n",
      "Processing record 93|longyearbyen\n",
      "Processing record 94|launceston\n",
      "Processing record 95|butaritari\n",
      "City not found. skipping.\n",
      "Processing record 96|saint george\n",
      "Processing record 97|yar-sale\n",
      "Processing record 98|hermanus\n",
      "Processing record 99|bengkulu\n",
      "Processing record 100|alofi\n",
      "Processing record 101|awjilah\n",
      "Processing record 102|padang\n",
      "Processing record 103|lempaala\n",
      "Processing record 104|ponta do sol\n",
      "Processing record 105|isangel\n",
      "Processing record 106|leningradskiy\n",
      "Processing record 107|baley\n",
      "Processing record 108|coihaique\n",
      "Processing record 109|tasiilaq\n",
      "Processing record 110|upernavik\n",
      "Processing record 111|waipawa\n",
      "City not found. skipping.\n",
      "Processing record 112|port alfred\n",
      "Processing record 113|camacari\n",
      "Processing record 114|skjervoy\n",
      "Processing record 115|melville\n",
      "Processing record 116|mananjary\n",
      "Processing record 117|phalombe\n",
      "Processing record 118|tuatapere\n",
      "Processing record 119|ulaangom\n",
      "Processing record 120|aykhal\n",
      "Processing record 121|port hardy\n",
      "Processing record 122|hovd\n",
      "Processing record 123|cherskiy\n",
      "Processing record 124|chokurdakh\n",
      "Processing record 125|rutul\n",
      "Processing record 126|broken hill\n",
      "Processing record 127|narsaq\n",
      "Processing record 128|kirakira\n",
      "Processing record 129|ladario\n",
      "Processing record 130|severnoye\n",
      "City not found. skipping.\n",
      "Processing record 131|sao joao da barra\n",
      "Processing record 132|saint anthony\n",
      "City not found. skipping.\n",
      "Processing record 133|birao\n",
      "Processing record 134|georgetown\n",
      "Processing record 135|hamilton\n",
      "Processing record 136|port macquarie\n",
      "Processing record 137|caravelas\n",
      "Processing record 138|san patricio\n",
      "Processing record 139|carutapera\n",
      "City not found. skipping.\n",
      "Processing record 140|braganca\n",
      "Processing record 141|ogembo\n",
      "Processing record 142|laguna\n",
      "Processing record 143|east london\n",
      "Processing record 144|santa cruz\n",
      "Processing record 145|cabo san lucas\n",
      "Processing record 146|mandalay\n",
      "Processing record 147|carman\n",
      "Processing record 148|duki\n",
      "Processing record 149|pulivendla\n",
      "Processing record 150|dikson\n",
      "City not found. skipping.\n",
      "Processing record 151|pacific grove\n",
      "City not found. skipping.\n",
      "Processing record 152|vila franca do campo\n",
      "Processing record 153|santa rosa\n",
      "Processing record 154|semey\n",
      "Processing record 155|paamiut\n",
      "Processing record 156|mount gambier\n",
      "Processing record 157|olafsvik\n",
      "Processing record 158|barrow\n",
      "Processing record 159|binzhou\n",
      "Processing record 160|at-bashi\n",
      "Processing record 161|denpasar\n",
      "Processing record 162|bambous virieux\n",
      "Processing record 163|port blair\n",
      "Processing record 164|chuy\n",
      "Processing record 165|curup\n",
      "City not found. skipping.\n",
      "Processing record 166|saskylakh\n",
      "Processing record 167|codrington\n",
      "Processing record 168|sigli\n",
      "Processing record 169|bystrzyca klodzka\n",
      "Processing record 170|presidencia roque saenz pena\n",
      "Processing record 171|hithadhoo\n",
      "Processing record 172|walvis bay\n",
      "Processing record 173|novikovo\n",
      "Processing record 174|geraldton\n",
      "Processing record 175|preeceville\n",
      "Processing record 176|cochrane\n",
      "Processing record 177|quimper\n",
      "Processing record 178|ust-nera\n",
      "Processing record 179|sisimiut\n",
      "Processing record 180|dubbo\n",
      "Processing record 181|alta floresta\n",
      "Processing record 182|merauke\n",
      "Processing record 183|komsomolskiy\n",
      "Processing record 184|polunochnoye\n",
      "Processing record 185|nong bua\n",
      "Processing record 186|kodiak\n",
      "Processing record 187|bowen\n",
      "Processing record 188|ribeira grande\n",
      "Processing record 189|grand gaube\n",
      "Processing record 190|nome\n",
      "Processing record 191|olovyannaya\n",
      "Processing record 192|bucerias\n",
      "Processing record 193|thompson\n",
      "Processing record 194|soyo\n",
      "Processing record 195|iqaluit\n",
      "Processing record 196|roald\n",
      "Processing record 197|atasu\n",
      "Processing record 198|salalah\n",
      "City not found. skipping.\n",
      "Processing record 199|neftcala\n",
      "Processing record 200|yellowknife\n",
      "Processing record 201|kirksville\n",
      "City not found. skipping.\n",
      "Processing record 202|le port\n",
      "Processing record 203|hambantota\n",
      "Processing record 204|cervo\n",
      "Processing record 205|sudak\n",
      "Processing record 206|carnarvon\n",
      "Processing record 207|aklavik\n",
      "Processing record 208|alpena\n",
      "Processing record 209|arraial do cabo\n",
      "City not found. skipping.\n",
      "City not found. skipping.\n",
      "Processing record 210|ponta delgada\n",
      "Processing record 211|yulara\n",
      "Processing record 212|george town\n",
      "Processing record 213|bonavista\n",
      "Processing record 214|erzin\n",
      "Processing record 215|adre\n",
      "Processing record 216|talnakh\n",
      "Processing record 217|ziro\n",
      "Processing record 218|ahipara\n",
      "Processing record 219|shitkino\n",
      "Processing record 220|leh\n",
      "Processing record 221|pskov\n",
      "Processing record 222|mahebourg\n",
      "Processing record 223|avera\n",
      "Processing record 224|grand-santi\n",
      "City not found. skipping.\n",
      "Processing record 225|harper\n",
      "Processing record 226|jiangyou\n",
      "Processing record 227|tura\n",
      "Processing record 228|dzhebariki-khaya\n",
      "City not found. skipping.\n",
      "Processing record 229|aviles\n",
      "Processing record 230|port-gentil\n",
      "Processing record 231|kupang\n",
      "Processing record 232|manta\n",
      "City not found. skipping.\n",
      "City not found. skipping.\n",
      "Processing record 233|naryan-mar\n",
      "Processing record 234|bandarbeyla\n",
      "Processing record 235|kahului\n",
      "Processing record 236|corinto\n",
      "Processing record 237|whitehorse\n",
      "Processing record 238|bentiu\n",
      "Processing record 239|mayo\n",
      "Processing record 240|tsabong\n",
      "Processing record 241|palmeirais\n",
      "City not found. skipping.\n",
      "Processing record 242|new haven\n",
      "Processing record 243|nouakchott\n",
      "Processing record 244|sept-iles\n",
      "Processing record 245|marsh harbour\n"
     ]
    },
    {
     "name": "stdout",
     "output_type": "stream",
     "text": [
      "Processing record 246|udachnyy\n",
      "City not found. skipping.\n",
      "Processing record 247|axim\n",
      "Processing record 248|eyl\n",
      "Processing record 249|fairbanks\n",
      "Processing record 250|alencon\n",
      "Processing record 251|veraval\n",
      "Processing record 252|college\n",
      "Processing record 253|griffith\n",
      "Processing record 254|bagdarin\n",
      "Processing record 255|ossora\n",
      "Processing record 256|ngunguru\n",
      "Processing record 257|matagami\n",
      "Processing record 258|shingu\n",
      "Processing record 259|saldanha\n",
      "Processing record 260|sur\n",
      "Processing record 261|victor harbor\n",
      "Processing record 262|doka\n",
      "Processing record 263|maniitsoq\n",
      "Processing record 264|san jeronimo\n",
      "Processing record 265|barguzin\n",
      "Processing record 266|hellvik\n",
      "Processing record 267|chibombo\n",
      "Processing record 268|turan\n",
      "Processing record 269|ancud\n",
      "Processing record 270|kavaratti\n",
      "Processing record 271|humboldt\n",
      "Processing record 272|gadwal\n",
      "Processing record 273|dogondoutchi\n",
      "Processing record 274|lompoc\n",
      "Processing record 275|chardara\n",
      "Processing record 276|roverud\n",
      "Processing record 277|victoria\n",
      "Processing record 278|spassk\n",
      "Processing record 279|iturama\n",
      "Processing record 280|arman\n",
      "Processing record 281|bathsheba\n",
      "Processing record 282|pali\n",
      "City not found. skipping.\n",
      "City not found. skipping.\n",
      "Processing record 283|frontera\n",
      "Processing record 284|namibe\n",
      "Processing record 285|lumajang\n",
      "Processing record 286|vila velha\n",
      "Processing record 287|matara\n",
      "Processing record 288|mayumba\n",
      "Processing record 289|superior\n",
      "Processing record 290|yen bai\n",
      "Processing record 291|norfolk\n",
      "Processing record 292|tosya\n",
      "Processing record 293|kutum\n",
      "Processing record 294|praia\n",
      "Processing record 295|daru\n",
      "Processing record 296|hope\n",
      "Processing record 297|najran\n",
      "City not found. skipping.\n",
      "Processing record 298|sohbatpur\n",
      "Processing record 299|ostrovnoy\n",
      "Processing record 300|moose factory\n",
      "City not found. skipping.\n",
      "Processing record 301|berdigestyakh\n",
      "Processing record 302|neiafu\n",
      "Processing record 303|xinmin\n",
      "Processing record 304|matay\n",
      "Processing record 305|mamallapuram\n",
      "Processing record 306|nizwa\n",
      "Processing record 307|noyabrsk\n",
      "Processing record 308|grindavik\n",
      "Processing record 309|hamza\n",
      "City not found. skipping.\n",
      "Processing record 310|kabugao\n",
      "Processing record 311|toktogul\n",
      "Processing record 312|kavieng\n",
      "Processing record 313|klaksvik\n",
      "Processing record 314|muros\n",
      "Processing record 315|esperance\n",
      "Processing record 316|bahir dar\n",
      "Processing record 317|odienne\n",
      "Processing record 318|kaitangata\n",
      "Processing record 319|verkhnevilyuysk\n",
      "Processing record 320|motygino\n",
      "Processing record 321|la rioja\n",
      "Processing record 322|karlstad\n",
      "Processing record 323|arlit\n",
      "Processing record 324|vilhena\n",
      "Processing record 325|touros\n",
      "Processing record 326|cockburn town\n",
      "Processing record 327|busko-zdroj\n",
      "City not found. skipping.\n",
      "Processing record 328|aswan\n",
      "Processing record 329|belyy yar\n",
      "Processing record 330|sayat\n",
      "City not found. skipping.\n",
      "City not found. skipping.\n",
      "Processing record 331|kamaishi\n",
      "Processing record 332|jutai\n",
      "Processing record 333|masindi\n",
      "Processing record 334|gamba\n",
      "Processing record 335|puerto madryn\n",
      "Processing record 336|baykit\n",
      "Processing record 337|egvekinot\n",
      "Processing record 338|zaozerne\n",
      "City not found. skipping.\n",
      "Processing record 339|chaman\n",
      "City not found. skipping.\n",
      "Processing record 340|manggar\n",
      "Processing record 341|barra dos coqueiros\n",
      "Processing record 342|abu kamal\n",
      "Processing record 343|gijon\n",
      "Processing record 344|ishcherskaya\n",
      "Processing record 345|traverse city\n",
      "Processing record 346|berlevag\n",
      "Processing record 347|togur\n",
      "Processing record 348|coos bay\n",
      "Processing record 349|hegang\n",
      "Processing record 350|carupano\n",
      "Processing record 351|saint-augustin\n",
      "Processing record 352|juegang\n",
      "City not found. skipping.\n",
      "Processing record 353|balkhash\n",
      "Processing record 354|meulaboh\n",
      "Processing record 355|huarmey\n",
      "Processing record 356|santa cruz de la palma\n",
      "Processing record 357|leglise\n",
      "Processing record 358|sobolevo\n",
      "City not found. skipping.\n",
      "Processing record 359|beloha\n",
      "Processing record 360|georgiyevka\n",
      "Processing record 361|diego de almagro\n",
      "City not found. skipping.\n",
      "Processing record 362|uyovu\n",
      "Processing record 363|port elgin\n",
      "Processing record 364|labuhan\n",
      "Processing record 365|srivardhan\n",
      "Processing record 366|the valley\n",
      "Processing record 367|sechura\n",
      "City not found. skipping.\n",
      "Processing record 368|galle\n",
      "Processing record 369|khasan\n",
      "Processing record 370|pitrufquen\n",
      "Processing record 371|neuwied\n",
      "Processing record 372|nianzishan\n",
      "Processing record 373|zhangye\n",
      "Processing record 374|lahat\n",
      "Processing record 375|ouadda\n",
      "Processing record 376|kangaba\n",
      "City not found. skipping.\n",
      "Processing record 377|baruun-urt\n",
      "Processing record 378|hualmay\n",
      "Processing record 379|jalu\n",
      "Processing record 380|vardo\n",
      "Processing record 381|nanortalik\n",
      "City not found. skipping.\n",
      "Processing record 382|abu dhabi\n",
      "City not found. skipping.\n",
      "Processing record 383|shakawe\n",
      "Processing record 384|concordia\n",
      "Processing record 385|evensk\n",
      "Processing record 386|mehamn\n",
      "Processing record 387|shirokiy\n",
      "Processing record 388|benoy\n",
      "Processing record 389|pasco\n",
      "Processing record 390|borova\n",
      "Processing record 391|rockland\n",
      "Processing record 392|elko\n",
      "Processing record 393|port lincoln\n",
      "Processing record 394|marawi\n",
      "City not found. skipping.\n",
      "City not found. skipping.\n",
      "Processing record 395|pinawa\n",
      "City not found. skipping.\n",
      "Processing record 396|mecca\n",
      "City not found. skipping.\n",
      "Processing record 397|coquimbo\n",
      "Processing record 398|henties bay\n",
      "Processing record 399|danville\n",
      "Processing record 400|zabaykalsk\n",
      "Processing record 401|skibbereen\n",
      "Processing record 402|omsukchan\n",
      "Processing record 403|vestmannaeyjar\n",
      "Processing record 404|kichera\n",
      "Processing record 405|estelle\n",
      "Processing record 406|dalbandin\n",
      "Processing record 407|zaidpur\n",
      "Processing record 408|yeppoon\n",
      "Processing record 409|hirado\n",
      "Processing record 410|charters towers\n",
      "Processing record 411|micheweni\n",
      "Processing record 412|okhotsk\n",
      "Processing record 413|san cristobal\n",
      "Processing record 414|honiara\n",
      "Processing record 415|boa vista\n",
      "Processing record 416|alenquer\n",
      "Processing record 417|danshui\n",
      "Processing record 418|lexington\n",
      "City not found. skipping.\n",
      "Processing record 419|guerrero negro\n",
      "Processing record 420|hay river\n",
      "Processing record 421|kaeo\n",
      "Processing record 422|pointe michel\n",
      "Processing record 423|novobelokatay\n",
      "Processing record 424|hailar\n",
      "Processing record 425|andenes\n",
      "City not found. skipping.\n",
      "Processing record 426|mbaiki\n",
      "Processing record 427|sheboygan\n",
      "City not found. skipping.\n",
      "City not found. skipping.\n",
      "Processing record 428|los llanos de aridane\n",
      "Processing record 429|todos santos\n",
      "Processing record 430|porto velho\n",
      "Processing record 431|george\n",
      "Processing record 432|jiazi\n",
      "Processing record 433|pangai\n",
      "Processing record 434|chicama\n",
      "Processing record 435|suez\n",
      "Processing record 436|gisborne\n",
      "Processing record 437|beian\n",
      "Processing record 438|siniscola\n",
      "Processing record 439|borodyanka\n",
      "Processing record 440|loandjili\n",
      "Processing record 441|torbay\n",
      "Processing record 442|itoman\n",
      "City not found. skipping.\n",
      "Processing record 443|sakakah\n",
      "Processing record 444|luderitz\n",
      "Processing record 445|korla\n",
      "Processing record 446|kieta\n",
      "Processing record 447|mahibadhoo\n",
      "Processing record 448|pisco\n",
      "Processing record 449|luang prabang\n",
      "Processing record 450|san bartolome de tirajana\n",
      "Processing record 451|guiratinga\n",
      "Processing record 452|vaitape\n",
      "Processing record 453|maragogi\n",
      "Processing record 454|malartic\n",
      "Processing record 455|pangody\n",
      "Processing record 456|djibo\n",
      "Processing record 457|tucupita\n",
      "City not found. skipping.\n",
      "Processing record 458|guajara\n",
      "Processing record 459|ilhabela\n",
      "Processing record 460|maceio\n",
      "Processing record 461|phalodi\n",
      "Processing record 462|toora-khem\n",
      "Processing record 463|lasa\n",
      "Processing record 464|pouembout\n",
      "Processing record 465|miyako\n",
      "Processing record 466|maltahohe\n",
      "Processing record 467|palmer\n",
      "Processing record 468|okato\n",
      "Processing record 469|koulamoutou\n",
      "Processing record 470|chipinge\n",
      "Processing record 471|umm kaddadah\n",
      "Processing record 472|san clemente\n",
      "Processing record 473|kirn\n",
      "Processing record 474|chany\n",
      "Processing record 475|melilla\n",
      "Processing record 476|sorland\n",
      "Processing record 477|cidreira\n",
      "Processing record 478|beira\n",
      "Processing record 479|dogbo\n",
      "Processing record 480|gobabis\n",
      "Processing record 481|jombang\n",
      "Processing record 482|husavik\n",
      "Processing record 483|belaya gora\n",
      "Processing record 484|deyang\n",
      "Processing record 485|north bend\n",
      "Processing record 486|shepsi\n",
      "Processing record 487|yerbogachen\n"
     ]
    },
    {
     "name": "stdout",
     "output_type": "stream",
     "text": [
      "Processing record 488|rumilly\n",
      "Processing record 489|brae\n",
      "Processing record 490|amga\n",
      "Processing record 491|celestun\n",
      "Processing record 492|coihueco\n",
      "Processing record 493|morgan city\n",
      "Processing record 494|braintree\n",
      "City not found. skipping.\n",
      "Processing record 495|churapcha\n",
      "Processing record 496|tautira\n",
      "Processing record 497|morant bay\n",
      "Processing record 498|aksarka\n",
      "Processing record 499|bereda\n",
      "Processing record 500|west odessa\n",
      "Processing record 501|portland\n",
      "Processing record 502|salinopolis\n",
      "City not found. skipping.\n",
      "Processing record 503|piopio\n",
      "City not found. skipping.\n",
      "City not found. skipping.\n",
      "Processing record 504|poshtove\n",
      "Processing record 505|richards bay\n",
      "Processing record 506|brigham city\n",
      "Processing record 507|rio grande\n",
      "Processing record 508|uvelskiy\n",
      "Processing record 509|samarai\n",
      "Processing record 510|gualaquiza\n",
      "Processing record 511|aleysk\n",
      "Processing record 512|vanavara\n",
      "Processing record 513|lavrentiya\n",
      "Processing record 514|kaniama\n",
      "Processing record 515|dunedin\n",
      "Processing record 516|flinders\n",
      "Processing record 517|nago\n",
      "Processing record 518|port hueneme\n",
      "Processing record 519|killybegs\n",
      "Processing record 520|ponca city\n",
      "Processing record 521|osmena\n",
      "City not found. skipping.\n",
      "City not found. skipping.\n",
      "Processing record 522|astana\n",
      "Processing record 523|lar\n",
      "Processing record 524|byron bay\n",
      "Processing record 525|terrace\n",
      "Processing record 526|san juan\n",
      "Processing record 527|san ignacio\n",
      "Processing record 528|tankhoy\n",
      "Processing record 529|knysna\n",
      "Processing record 530|teguldet\n",
      "Processing record 531|havoysund\n"
     ]
    }
   ],
   "source": [
    "url = \"http://api.openweathermap.org/data/2.5/weather?units=Imperial&\"\n",
    "\n",
    "#Define empty lists to store values\n",
    "cloudiness = []\n",
    "country = []\n",
    "date = []\n",
    "max_temp = []\n",
    "humidity = []\n",
    "lat = []\n",
    "lng = []\n",
    "wind_speed = []\n",
    "city_name = []\n",
    "\n",
    "#Looping through cities to make api calls using city as query\n",
    "i = 1\n",
    "for city in cities:\n",
    "    city=city\n",
    "    query_url = url + \"appid=\" + weather_api_key + \"&q=\" + city\n",
    "    response = requests.get(query_url).json()\n",
    "    \n",
    "#Extracting data. Missing data is handled by try and except  \n",
    "    try:\n",
    "        \n",
    "        cloudiness.append(response[\"clouds\"][\"all\"])\n",
    "        country.append(response[\"sys\"][\"country\"])\n",
    "        date.append(response[\"dt\"])\n",
    "        max_temp.append(response[\"main\"]['temp_max'])\n",
    "        humidity.append(response[\"main\"]['humidity'])\n",
    "        lat.append(response[\"coord\"][\"lat\"])  \n",
    "        lng.append(response[\"coord\"][\"lon\"])\n",
    "        wind_speed.append(response[\"wind\"][\"speed\"])\n",
    "        city_name.append(response[\"name\"])\n",
    "        print(f\"Processing record {i}|{city}\")\n",
    "        i+=1\n",
    "    except (KeyError):\n",
    "        print(\"City not found. skipping.\")\n"
   ]
  },
  {
   "cell_type": "markdown",
   "metadata": {},
   "source": [
    "### Convert Raw Data to DataFrame\n",
    "* Export the city data into a .csv.\n",
    "* Display the DataFrame"
   ]
  },
  {
   "cell_type": "code",
   "execution_count": 5,
   "metadata": {},
   "outputs": [
    {
     "ename": "FileNotFoundError",
     "evalue": "[Errno 2] No such file or directory: '../output_data/cities.csv'",
     "output_type": "error",
     "traceback": [
      "\u001b[0;31m---------------------------------------------------------------------------\u001b[0m",
      "\u001b[0;31mFileNotFoundError\u001b[0m                         Traceback (most recent call last)",
      "\u001b[0;32m<ipython-input-5-0bc3f34b540e>\u001b[0m in \u001b[0;36m<module>\u001b[0;34m\u001b[0m\n\u001b[1;32m     13\u001b[0m \u001b[0;34m\u001b[0m\u001b[0m\n\u001b[1;32m     14\u001b[0m \u001b[0;31m#Exporting data to csv\u001b[0m\u001b[0;34m\u001b[0m\u001b[0;34m\u001b[0m\u001b[0;34m\u001b[0m\u001b[0m\n\u001b[0;32m---> 15\u001b[0;31m \u001b[0mcity_df\u001b[0m\u001b[0;34m.\u001b[0m\u001b[0mto_csv\u001b[0m\u001b[0;34m(\u001b[0m\u001b[0;34m\"../output_data/cities.csv\"\u001b[0m\u001b[0;34m)\u001b[0m\u001b[0;34m\u001b[0m\u001b[0;34m\u001b[0m\u001b[0m\n\u001b[0m\u001b[1;32m     16\u001b[0m \u001b[0;34m\u001b[0m\u001b[0m\n\u001b[1;32m     17\u001b[0m \u001b[0;31m#Displaying dataframe\u001b[0m\u001b[0;34m\u001b[0m\u001b[0;34m\u001b[0m\u001b[0;34m\u001b[0m\u001b[0m\n",
      "\u001b[0;32m~/opt/anaconda3/envs/PythonData/lib/python3.6/site-packages/pandas/core/generic.py\u001b[0m in \u001b[0;36mto_csv\u001b[0;34m(self, path_or_buf, sep, na_rep, float_format, columns, header, index, index_label, mode, encoding, compression, quoting, quotechar, line_terminator, chunksize, date_format, doublequote, escapechar, decimal)\u001b[0m\n\u001b[1;32m   3202\u001b[0m             \u001b[0mdecimal\u001b[0m\u001b[0;34m=\u001b[0m\u001b[0mdecimal\u001b[0m\u001b[0;34m,\u001b[0m\u001b[0;34m\u001b[0m\u001b[0;34m\u001b[0m\u001b[0m\n\u001b[1;32m   3203\u001b[0m         )\n\u001b[0;32m-> 3204\u001b[0;31m         \u001b[0mformatter\u001b[0m\u001b[0;34m.\u001b[0m\u001b[0msave\u001b[0m\u001b[0;34m(\u001b[0m\u001b[0;34m)\u001b[0m\u001b[0;34m\u001b[0m\u001b[0;34m\u001b[0m\u001b[0m\n\u001b[0m\u001b[1;32m   3205\u001b[0m \u001b[0;34m\u001b[0m\u001b[0m\n\u001b[1;32m   3206\u001b[0m         \u001b[0;32mif\u001b[0m \u001b[0mpath_or_buf\u001b[0m \u001b[0;32mis\u001b[0m \u001b[0;32mNone\u001b[0m\u001b[0;34m:\u001b[0m\u001b[0;34m\u001b[0m\u001b[0;34m\u001b[0m\u001b[0m\n",
      "\u001b[0;32m~/opt/anaconda3/envs/PythonData/lib/python3.6/site-packages/pandas/io/formats/csvs.py\u001b[0m in \u001b[0;36msave\u001b[0;34m(self)\u001b[0m\n\u001b[1;32m    186\u001b[0m                 \u001b[0mself\u001b[0m\u001b[0;34m.\u001b[0m\u001b[0mmode\u001b[0m\u001b[0;34m,\u001b[0m\u001b[0;34m\u001b[0m\u001b[0;34m\u001b[0m\u001b[0m\n\u001b[1;32m    187\u001b[0m                 \u001b[0mencoding\u001b[0m\u001b[0;34m=\u001b[0m\u001b[0mself\u001b[0m\u001b[0;34m.\u001b[0m\u001b[0mencoding\u001b[0m\u001b[0;34m,\u001b[0m\u001b[0;34m\u001b[0m\u001b[0;34m\u001b[0m\u001b[0m\n\u001b[0;32m--> 188\u001b[0;31m                 \u001b[0mcompression\u001b[0m\u001b[0;34m=\u001b[0m\u001b[0mdict\u001b[0m\u001b[0;34m(\u001b[0m\u001b[0mself\u001b[0m\u001b[0;34m.\u001b[0m\u001b[0mcompression_args\u001b[0m\u001b[0;34m,\u001b[0m \u001b[0mmethod\u001b[0m\u001b[0;34m=\u001b[0m\u001b[0mself\u001b[0m\u001b[0;34m.\u001b[0m\u001b[0mcompression\u001b[0m\u001b[0;34m)\u001b[0m\u001b[0;34m,\u001b[0m\u001b[0;34m\u001b[0m\u001b[0;34m\u001b[0m\u001b[0m\n\u001b[0m\u001b[1;32m    189\u001b[0m             )\n\u001b[1;32m    190\u001b[0m             \u001b[0mclose\u001b[0m \u001b[0;34m=\u001b[0m \u001b[0;32mTrue\u001b[0m\u001b[0;34m\u001b[0m\u001b[0;34m\u001b[0m\u001b[0m\n",
      "\u001b[0;32m~/opt/anaconda3/envs/PythonData/lib/python3.6/site-packages/pandas/io/common.py\u001b[0m in \u001b[0;36mget_handle\u001b[0;34m(path_or_buf, mode, encoding, compression, memory_map, is_text)\u001b[0m\n\u001b[1;32m    426\u001b[0m         \u001b[0;32mif\u001b[0m \u001b[0mencoding\u001b[0m\u001b[0;34m:\u001b[0m\u001b[0;34m\u001b[0m\u001b[0;34m\u001b[0m\u001b[0m\n\u001b[1;32m    427\u001b[0m             \u001b[0;31m# Encoding\u001b[0m\u001b[0;34m\u001b[0m\u001b[0;34m\u001b[0m\u001b[0;34m\u001b[0m\u001b[0m\n\u001b[0;32m--> 428\u001b[0;31m             \u001b[0mf\u001b[0m \u001b[0;34m=\u001b[0m \u001b[0mopen\u001b[0m\u001b[0;34m(\u001b[0m\u001b[0mpath_or_buf\u001b[0m\u001b[0;34m,\u001b[0m \u001b[0mmode\u001b[0m\u001b[0;34m,\u001b[0m \u001b[0mencoding\u001b[0m\u001b[0;34m=\u001b[0m\u001b[0mencoding\u001b[0m\u001b[0;34m,\u001b[0m \u001b[0mnewline\u001b[0m\u001b[0;34m=\u001b[0m\u001b[0;34m\"\"\u001b[0m\u001b[0;34m)\u001b[0m\u001b[0;34m\u001b[0m\u001b[0;34m\u001b[0m\u001b[0m\n\u001b[0m\u001b[1;32m    429\u001b[0m         \u001b[0;32melif\u001b[0m \u001b[0mis_text\u001b[0m\u001b[0;34m:\u001b[0m\u001b[0;34m\u001b[0m\u001b[0;34m\u001b[0m\u001b[0m\n\u001b[1;32m    430\u001b[0m             \u001b[0;31m# No explicit encoding\u001b[0m\u001b[0;34m\u001b[0m\u001b[0;34m\u001b[0m\u001b[0;34m\u001b[0m\u001b[0m\n",
      "\u001b[0;31mFileNotFoundError\u001b[0m: [Errno 2] No such file or directory: '../output_data/cities.csv'"
     ]
    }
   ],
   "source": [
    "#Creating city dataframe\n",
    "city_df = pd.DataFrame({\"City\":city_name, \n",
    "                        \"Cloudiness\":cloudiness, \n",
    "                        \"Country\":country, \n",
    "                        \"Date\":date, \n",
    "                        \"Humidity\":humidity,\n",
    "                        \"Lat\":lat,\n",
    "                        \"Lng\":lng,\n",
    "                        \"Max Temp\":max_temp,\n",
    "                        \"Wind Speed\":wind_speed\n",
    "                                         })\n",
    "city_df = city_df.rename_axis('City ID')\n",
    "\n",
    "#Exporting data to csv\n",
    "city_df.to_csv(\"../output_data/cities.csv\")\n",
    "\n",
    "#Displaying dataframe\n",
    "city_df.head()"
   ]
  },
  {
   "cell_type": "markdown",
   "metadata": {},
   "source": [
    "## Inspect the data and remove the cities where the humidity > 100%.\n",
    "----\n",
    "Skip this step if there are no cities that have humidity > 100%. "
   ]
  },
  {
   "cell_type": "code",
   "execution_count": 6,
   "metadata": {},
   "outputs": [
    {
     "data": {
      "text/html": [
       "<div>\n",
       "<style scoped>\n",
       "    .dataframe tbody tr th:only-of-type {\n",
       "        vertical-align: middle;\n",
       "    }\n",
       "\n",
       "    .dataframe tbody tr th {\n",
       "        vertical-align: top;\n",
       "    }\n",
       "\n",
       "    .dataframe thead th {\n",
       "        text-align: right;\n",
       "    }\n",
       "</style>\n",
       "<table border=\"1\" class=\"dataframe\">\n",
       "  <thead>\n",
       "    <tr style=\"text-align: right;\">\n",
       "      <th></th>\n",
       "      <th>Lat</th>\n",
       "      <th>Lng</th>\n",
       "      <th>Max Temp</th>\n",
       "      <th>Humidity</th>\n",
       "      <th>Cloudiness</th>\n",
       "      <th>Wind Speed</th>\n",
       "      <th>Date</th>\n",
       "    </tr>\n",
       "  </thead>\n",
       "  <tbody>\n",
       "    <tr>\n",
       "      <th>count</th>\n",
       "      <td>550.000000</td>\n",
       "      <td>550.000000</td>\n",
       "      <td>550.000000</td>\n",
       "      <td>550.000000</td>\n",
       "      <td>550.000000</td>\n",
       "      <td>550.000000</td>\n",
       "      <td>5.500000e+02</td>\n",
       "    </tr>\n",
       "    <tr>\n",
       "      <th>mean</th>\n",
       "      <td>19.973545</td>\n",
       "      <td>17.124400</td>\n",
       "      <td>58.331400</td>\n",
       "      <td>67.890909</td>\n",
       "      <td>52.141818</td>\n",
       "      <td>8.544800</td>\n",
       "      <td>1.585764e+09</td>\n",
       "    </tr>\n",
       "    <tr>\n",
       "      <th>std</th>\n",
       "      <td>33.284840</td>\n",
       "      <td>91.595451</td>\n",
       "      <td>25.795297</td>\n",
       "      <td>20.864881</td>\n",
       "      <td>35.766469</td>\n",
       "      <td>6.078869</td>\n",
       "      <td>5.539674e+01</td>\n",
       "    </tr>\n",
       "    <tr>\n",
       "      <th>min</th>\n",
       "      <td>-54.800000</td>\n",
       "      <td>-179.170000</td>\n",
       "      <td>-11.340000</td>\n",
       "      <td>9.000000</td>\n",
       "      <td>0.000000</td>\n",
       "      <td>0.160000</td>\n",
       "      <td>1.585764e+09</td>\n",
       "    </tr>\n",
       "    <tr>\n",
       "      <th>25%</th>\n",
       "      <td>-8.077500</td>\n",
       "      <td>-64.627500</td>\n",
       "      <td>42.800000</td>\n",
       "      <td>55.000000</td>\n",
       "      <td>20.000000</td>\n",
       "      <td>4.525000</td>\n",
       "      <td>1.585764e+09</td>\n",
       "    </tr>\n",
       "    <tr>\n",
       "      <th>50%</th>\n",
       "      <td>23.630000</td>\n",
       "      <td>19.635000</td>\n",
       "      <td>64.940000</td>\n",
       "      <td>72.000000</td>\n",
       "      <td>57.000000</td>\n",
       "      <td>7.325000</td>\n",
       "      <td>1.585764e+09</td>\n",
       "    </tr>\n",
       "    <tr>\n",
       "      <th>75%</th>\n",
       "      <td>48.672500</td>\n",
       "      <td>97.350000</td>\n",
       "      <td>78.800000</td>\n",
       "      <td>83.000000</td>\n",
       "      <td>86.750000</td>\n",
       "      <td>11.410000</td>\n",
       "      <td>1.585764e+09</td>\n",
       "    </tr>\n",
       "    <tr>\n",
       "      <th>max</th>\n",
       "      <td>78.220000</td>\n",
       "      <td>179.320000</td>\n",
       "      <td>102.200000</td>\n",
       "      <td>100.000000</td>\n",
       "      <td>100.000000</td>\n",
       "      <td>46.080000</td>\n",
       "      <td>1.585764e+09</td>\n",
       "    </tr>\n",
       "  </tbody>\n",
       "</table>\n",
       "</div>"
      ],
      "text/plain": [
       "              Lat         Lng    Max Temp    Humidity  Cloudiness  Wind Speed  \\\n",
       "count  550.000000  550.000000  550.000000  550.000000  550.000000  550.000000   \n",
       "mean    19.973545   17.124400   58.331400   67.890909   52.141818    8.544800   \n",
       "std     33.284840   91.595451   25.795297   20.864881   35.766469    6.078869   \n",
       "min    -54.800000 -179.170000  -11.340000    9.000000    0.000000    0.160000   \n",
       "25%     -8.077500  -64.627500   42.800000   55.000000   20.000000    4.525000   \n",
       "50%     23.630000   19.635000   64.940000   72.000000   57.000000    7.325000   \n",
       "75%     48.672500   97.350000   78.800000   83.000000   86.750000   11.410000   \n",
       "max     78.220000  179.320000  102.200000  100.000000  100.000000   46.080000   \n",
       "\n",
       "               Date  \n",
       "count  5.500000e+02  \n",
       "mean   1.585764e+09  \n",
       "std    5.539674e+01  \n",
       "min    1.585764e+09  \n",
       "25%    1.585764e+09  \n",
       "50%    1.585764e+09  \n",
       "75%    1.585764e+09  \n",
       "max    1.585764e+09  "
      ]
     },
     "execution_count": 6,
     "metadata": {},
     "output_type": "execute_result"
    }
   ],
   "source": []
  },
  {
   "cell_type": "code",
   "execution_count": 17,
   "metadata": {},
   "outputs": [
    {
     "data": {
      "text/plain": [
       "Int64Index([], dtype='int64')"
      ]
     },
     "execution_count": 17,
     "metadata": {},
     "output_type": "execute_result"
    }
   ],
   "source": [
    "#  Get the indices of cities that have humidity over 100%.\n"
   ]
  },
  {
   "cell_type": "code",
   "execution_count": 19,
   "metadata": {},
   "outputs": [
    {
     "data": {
      "text/html": [
       "<div>\n",
       "<style scoped>\n",
       "    .dataframe tbody tr th:only-of-type {\n",
       "        vertical-align: middle;\n",
       "    }\n",
       "\n",
       "    .dataframe tbody tr th {\n",
       "        vertical-align: top;\n",
       "    }\n",
       "\n",
       "    .dataframe thead th {\n",
       "        text-align: right;\n",
       "    }\n",
       "</style>\n",
       "<table border=\"1\" class=\"dataframe\">\n",
       "  <thead>\n",
       "    <tr style=\"text-align: right;\">\n",
       "      <th></th>\n",
       "      <th>City</th>\n",
       "      <th>Lat</th>\n",
       "      <th>Lng</th>\n",
       "      <th>Max Temp</th>\n",
       "      <th>Humidity</th>\n",
       "      <th>Cloudiness</th>\n",
       "      <th>Wind Speed</th>\n",
       "      <th>Country</th>\n",
       "      <th>Date</th>\n",
       "    </tr>\n",
       "  </thead>\n",
       "  <tbody>\n",
       "    <tr>\n",
       "      <td>0</td>\n",
       "      <td>butaritari</td>\n",
       "      <td>3.07</td>\n",
       "      <td>172.79</td>\n",
       "      <td>83.32</td>\n",
       "      <td>74</td>\n",
       "      <td>84</td>\n",
       "      <td>10.42</td>\n",
       "      <td>KI</td>\n",
       "      <td>1593605283</td>\n",
       "    </tr>\n",
       "    <tr>\n",
       "      <td>1</td>\n",
       "      <td>yerbogachen</td>\n",
       "      <td>61.28</td>\n",
       "      <td>108.01</td>\n",
       "      <td>79.52</td>\n",
       "      <td>58</td>\n",
       "      <td>20</td>\n",
       "      <td>7.70</td>\n",
       "      <td>RU</td>\n",
       "      <td>1593605121</td>\n",
       "    </tr>\n",
       "    <tr>\n",
       "      <td>2</td>\n",
       "      <td>cape town</td>\n",
       "      <td>-33.93</td>\n",
       "      <td>18.42</td>\n",
       "      <td>73.00</td>\n",
       "      <td>77</td>\n",
       "      <td>27</td>\n",
       "      <td>4.70</td>\n",
       "      <td>ZA</td>\n",
       "      <td>1593605039</td>\n",
       "    </tr>\n",
       "    <tr>\n",
       "      <td>3</td>\n",
       "      <td>touba</td>\n",
       "      <td>8.28</td>\n",
       "      <td>-7.68</td>\n",
       "      <td>79.97</td>\n",
       "      <td>75</td>\n",
       "      <td>82</td>\n",
       "      <td>3.58</td>\n",
       "      <td>CI</td>\n",
       "      <td>1593605284</td>\n",
       "    </tr>\n",
       "    <tr>\n",
       "      <td>4</td>\n",
       "      <td>jamestown</td>\n",
       "      <td>42.10</td>\n",
       "      <td>-79.24</td>\n",
       "      <td>64.00</td>\n",
       "      <td>88</td>\n",
       "      <td>1</td>\n",
       "      <td>6.93</td>\n",
       "      <td>US</td>\n",
       "      <td>1593605284</td>\n",
       "    </tr>\n",
       "  </tbody>\n",
       "</table>\n",
       "</div>"
      ],
      "text/plain": [
       "          City    Lat     Lng  Max Temp  Humidity  Cloudiness  Wind Speed  \\\n",
       "0   butaritari   3.07  172.79     83.32        74          84       10.42   \n",
       "1  yerbogachen  61.28  108.01     79.52        58          20        7.70   \n",
       "2    cape town -33.93   18.42     73.00        77          27        4.70   \n",
       "3        touba   8.28   -7.68     79.97        75          82        3.58   \n",
       "4    jamestown  42.10  -79.24     64.00        88           1        6.93   \n",
       "\n",
       "  Country        Date  \n",
       "0      KI  1593605283  \n",
       "1      RU  1593605121  \n",
       "2      ZA  1593605039  \n",
       "3      CI  1593605284  \n",
       "4      US  1593605284  "
      ]
     },
     "execution_count": 19,
     "metadata": {},
     "output_type": "execute_result"
    }
   ],
   "source": [
    "# Make a new DataFrame equal to the city data to drop all humidity outliers by index.\n",
    "# Passing \"inplace=False\" will make a copy of the city_data DataFrame, which we call \"clean_city_data\".\n"
   ]
  },
  {
   "cell_type": "code",
   "execution_count": null,
   "metadata": {},
   "outputs": [],
   "source": [
    "\n"
   ]
  },
  {
   "cell_type": "markdown",
   "metadata": {},
   "source": [
    "## Plotting the Data\n",
    "* Use proper labeling of the plots using plot titles (including date of analysis) and axes labels.\n",
    "* Save the plotted figures as .pngs."
   ]
  },
  {
   "cell_type": "markdown",
   "metadata": {},
   "source": [
    "## Latitude vs. Temperature Plot"
   ]
  },
  {
   "cell_type": "code",
   "execution_count": null,
   "metadata": {
    "scrolled": true
   },
   "outputs": [],
   "source": [
    "# Create Scatter Plot for Each Data Type\n",
    "plt.scatter(city_df[\"Lat\"], city_df[\"Max Temp\"], facecolors=\"blue\", marker=\"o\", edgecolor=\"black\")\n",
    "\n",
    "# Include Other Graph Properties\n",
    "plt.title(\"City Latitude vs. Max Temp (02/01/2020)\")\n",
    "plt.ylabel(\"Max Temperature (°F)\")\n",
    "plt.xlabel(\"Latitude\")\n",
    "plt.grid(True)\n",
    "\n",
    "plt.savefig(\"../output_data\\Fig1.png\")\n",
    "\n",
    "# Show Plot\n",
    "plt.show()\n",
    "\n",
    "# This plot is analysing the relationship between city latitude and temperature. \n"
   ]
  },
  {
   "cell_type": "markdown",
   "metadata": {},
   "source": [
    "## Latitude vs. Humidity Plot"
   ]
  },
  {
   "cell_type": "code",
   "execution_count": null,
   "metadata": {},
   "outputs": [],
   "source": [
    "plt.scatter(city_df[\"Lat\"], city_df[\"Humidity\"], marker = \"o\", color = \"blue\",edgecolor = \"black\")\n",
    "plt.grid()\n",
    "plt.ylim(0, city_df[\"Humidity\"].max()+50)\n",
    "plt.xlabel(\"Latitude\")\n",
    "plt.ylabel(\"Humidity(%)\")\n",
    "plt.title(f\"City Latitude vs. Humidity ({shortened_timestamp})\")\n",
    "plt.savefig(\"../output_data\\Fig2.png\")\n",
    "plt.show()\n",
    "\n",
    "## This plot is analysing the relationship between city latitude and humidity. "
   ]
  },
  {
   "cell_type": "markdown",
   "metadata": {},
   "source": [
    "## Latitude vs. Cloudiness Plot"
   ]
  },
  {
   "cell_type": "code",
   "execution_count": null,
   "metadata": {},
   "outputs": [],
   "source": [
    "plt.scatter(city_df[\"Lat\"], city_df[\"Cloudiness\"], marker = \"o\", color = \"blue\",edgecolor = \"black\")\n",
    "plt.grid()\n",
    "plt.xlabel(\"Latitude\")\n",
    "plt.ylabel(\"Cloudiness(%)\")\n",
    "plt.title(f\"City Latitude vs. Cloudiness ({shortened_timestamp})\")\n",
    "plt.savefig(\"../output_data\\Fig3.png\")\n",
    "plt.show()\n",
    "\n",
    "# This plot is analysing the relationship between city latitude and cloudiness. "
   ]
  },
  {
   "cell_type": "markdown",
   "metadata": {},
   "source": [
    "## Latitude vs. Wind Speed Plot"
   ]
  },
  {
   "cell_type": "code",
   "execution_count": null,
   "metadata": {},
   "outputs": [],
   "source": [
    "plt.scatter(city_df[\"Lat\"], city_df[\"Wind Speed\"], marker = \"o\", color = \"blue\",edgecolor = \"black\")\n",
    "plt.grid()\n",
    "plt.xlabel(\"Latitude\")\n",
    "plt.ylabel(\"Wind Speed(mph)\")\n",
    "plt.title(f\"City Latitude vs. Wind Speed ({shortened_timestamp})\")\n",
    "plt.savefig(\"../output_data\\Fig4.png\")\n",
    "plt.show()\n",
    "\n",
    "# This plot is analysing the relationship between city latitude and wind speed."
   ]
  },
  {
   "cell_type": "markdown",
   "metadata": {},
   "source": [
    "## Linear Regression"
   ]
  },
  {
   "cell_type": "code",
   "execution_count": 33,
   "metadata": {},
   "outputs": [],
   "source": [
    "# OPTIONAL: Create a function to create Linear Regression plots\n",
    "# Add the linear regression equation and line to plot\n",
    "def linear_reg_plot(x_values,y_values):\n",
    "    (slope, intercept, rvalue, pvalue, stderr) = linregress(x_values, y_values)\n",
    "    regress_values = x_values * slope + intercept\n",
    "    line_eq = \"y = \" + str(round(slope,2)) + \"x + \" + str(round(intercept,2))\n",
    "    plt.scatter(x_values,y_values)\n",
    "    plt.plot(x_values,regress_values,\"r-\")\n",
    "    plt.annotate(line_eq,(x_values.median(),y_values.median()),fontsize=15,color=\"red\")\n",
    "    plt.xlabel(\"Latitude\")\n",
    "    print(f\"The r-squared is: {rvalue}\")\n",
    "    plt.show()"
   ]
  },
  {
   "cell_type": "markdown",
   "metadata": {},
   "source": [
    "####  Northern Hemisphere - Max Temp vs. Latitude Linear Regression"
   ]
  },
  {
   "cell_type": "code",
   "execution_count": 34,
   "metadata": {},
   "outputs": [
    {
     "name": "stdout",
     "output_type": "stream",
     "text": [
      "The r-squared is: -0.8555510153396985\n"
     ]
    },
    {
     "data": {
      "image/png": "[encoded data removed]",
      "text/plain": [
       "<Figure size 432x288 with 1 Axes>"
      ]
     },
     "metadata": {
      "needs_background": "light"
     },
     "output_type": "display_data"
    },
    {
     "name": "stdout",
     "output_type": "stream",
     "text": [
      "None\n"
     ]
    }
   ],
   "source": [
    "# Create Northern and Southern Hemisphere DataFrames\n",
    "Northern_hemisphere = city_df.loc[city_df[\"Lat\"]>0]\n",
    "Southern_hemisphere = city_df.loc[city_df[\"Lat\"]<0]\n",
    "\n",
    "x_values = Northern_hemisphere[\"Lat\"]\n",
    "y_values = Northern_hemisphere[\"Max Temp\"]\n",
    "plt.ylabel(\"Max Temp (F)\")\n",
    "print(linear_reg_plot(x_values,y_values))\n",
    "\n",
    "# There is a direct correlation between the latitude and temperature at the Northern Hemisphere. As the latitude increases, the temperature increases. "
   ]
  },
  {
   "cell_type": "markdown",
   "metadata": {},
   "source": [
    "####  Southern Hemisphere - Max Temp vs. Latitude Linear Regression"
   ]
  },
  {
   "cell_type": "code",
   "execution_count": 35,
   "metadata": {},
   "outputs": [
    {
     "name": "stdout",
     "output_type": "stream",
     "text": [
      "The r-squared is: 0.3046347422676662\n"
     ]
    },
    {
     "data": {
      "image/png": "[encoded data removed]",
      "text/plain": [
       "<Figure size 432x288 with 1 Axes>"
      ]
     },
     "metadata": {
      "needs_background": "light"
     },
     "output_type": "display_data"
    },
    {
     "name": "stdout",
     "output_type": "stream",
     "text": [
      "None\n"
     ]
    }
   ],
   "source": [
    "x_values = Southern_hemisphere[\"Lat\"]\n",
    "y_values = Southern_hemisphere[\"Max Temp\"]\n",
    "plt.ylabel(\"Max Temp (F)\")\n",
    "print(linear_reg_plot(x_values,y_values))\n",
    "\n",
    "# There is a direct correlation between the latitude and temperature at the Souther Hemisphere. As the latitude increases, the temperature increases. "
   ]
  },
  {
   "cell_type": "markdown",
   "metadata": {},
   "source": [
    "####  Northern Hemisphere - Humidity (%) vs. Latitude Linear Regression"
   ]
  },
  {
   "cell_type": "code",
   "execution_count": 36,
   "metadata": {},
   "outputs": [
    {
     "name": "stdout",
     "output_type": "stream",
     "text": [
      "The r-squared is: 0.3936947174898315\n"
     ]
    },
    {
     "data": {
      "image/png": "[encoded data removed]",
      "text/plain": [
       "<Figure size 432x288 with 1 Axes>"
      ]
     },
     "metadata": {
      "needs_background": "light"
     },
     "output_type": "display_data"
    },
    {
     "name": "stdout",
     "output_type": "stream",
     "text": [
      "None\n"
     ]
    }
   ],
   "source": [
    "x_values = Northern_hemisphere[\"Lat\"]\n",
    "y_values = Northern_hemisphere[\"Humidity\"]\n",
    "plt.ylabel(\"Humidity (%)\")\n",
    "print(linear_reg_plot(x_values,y_values))\n",
    "\n",
    "# There is a direct correlation between latitude and humidity at the Northern Hemisphere. As the humidity increases, so does the latitude. "
   ]
  },
  {
   "cell_type": "markdown",
   "metadata": {},
   "source": [
    "####  Southern Hemisphere - Humidity (%) vs. Latitude Linear Regression"
   ]
  },
  {
   "cell_type": "code",
   "execution_count": 37,
   "metadata": {},
   "outputs": [
    {
     "name": "stdout",
     "output_type": "stream",
     "text": [
      "The r-squared is: 0.42972215070017084\n"
     ]
    },
    {
     "data": {
      "image/png": "[encoded data removed]",
      "text/plain": [
       "<Figure size 432x288 with 1 Axes>"
      ]
     },
     "metadata": {
      "needs_background": "light"
     },
     "output_type": "display_data"
    },
    {
     "name": "stdout",
     "output_type": "stream",
     "text": [
      "None\n"
     ]
    }
   ],
   "source": [
    "x_values = Southern_hemisphere[\"Lat\"]\n",
    "y_values = Southern_hemisphere[\"Humidity\"]\n",
    "plt.ylim(0, y_values.max()+100)\n",
    "plt.ylabel(\"Humidity (%)\")\n",
    "print(linear_reg_plot(x_values,y_values))\n",
    "\n",
    "# There is a direct correlation between humidity and latitude at the Southern Hemisphere. As the humidity increases, so does the latitude. "
   ]
  },
  {
   "cell_type": "markdown",
   "metadata": {},
   "source": [
    "####  Northern Hemisphere - Cloudiness (%) vs. Latitude Linear Regression"
   ]
  },
  {
   "cell_type": "code",
   "execution_count": 38,
   "metadata": {},
   "outputs": [
    {
     "name": "stdout",
     "output_type": "stream",
     "text": [
      "The r-squared is: 0.28810001010922964\n"
     ]
    },
    {
     "data": {
      "image/png": "[encoded data removed]",
      "text/plain": [
       "<Figure size 432x288 with 1 Axes>"
      ]
     },
     "metadata": {
      "needs_background": "light"
     },
     "output_type": "display_data"
    },
    {
     "name": "stdout",
     "output_type": "stream",
     "text": [
      "None\n"
     ]
    }
   ],
   "source": [
    "x_values = Northern_hemisphere[\"Lat\"]\n",
    "y_values = Northern_hemisphere[\"Cloudiness\"]\n",
    "plt.ylabel(\"Cloudiness\")\n",
    "print(linear_reg_plot(x_values,y_values))\n",
    "\n",
    "# There is a direct correlation between latitude and cloudiness at the Northern Hemisphere. As the cloudiness increases, so does the latitude. "
   ]
  },
  {
   "cell_type": "markdown",
   "metadata": {},
   "source": [
    "####  Southern Hemisphere - Cloudiness (%) vs. Latitude Linear Regression"
   ]
  },
  {
   "cell_type": "code",
   "execution_count": 39,
   "metadata": {},
   "outputs": [
    {
     "name": "stdout",
     "output_type": "stream",
     "text": [
      "The r-squared is: 0.347645393941907\n"
     ]
    },
    {
     "data": {
      "image/png": "[encoded data removed]",
      "text/plain": [
       "<Figure size 432x288 with 1 Axes>"
      ]
     },
     "metadata": {
      "needs_background": "light"
     },
     "output_type": "display_data"
    },
    {
     "name": "stdout",
     "output_type": "stream",
     "text": [
      "None\n"
     ]
    }
   ],
   "source": [
    "x_values = Southern_hemisphere[\"Lat\"]\n",
    "y_values = Southern_hemisphere[\"Cloudiness\"]\n",
    "plt.ylabel(\"Cloudiness\")\n",
    "print(linear_reg_plot(x_values,y_values))\n",
    "\n",
    "# There is a direct correlation between latitude and cloudiness at the Southern Hemisphere. As the cloudiness increases, so does the latitude. "
   ]
  },
  {
   "cell_type": "markdown",
   "metadata": {},
   "source": [
    "####  Northern Hemisphere - Wind Speed (mph) vs. Latitude Linear Regression"
   ]
  },
  {
   "cell_type": "code",
   "execution_count": 40,
   "metadata": {},
   "outputs": [
    {
     "name": "stdout",
     "output_type": "stream",
     "text": [
      "The r-squared is: 0.08627279672720142\n"
     ]
    },
    {
     "data": {
      "image/png": "[encoded data removed]",
      "text/plain": [
       "<Figure size 432x288 with 1 Axes>"
      ]
     },
     "metadata": {
      "needs_background": "light"
     },
     "output_type": "display_data"
    },
    {
     "name": "stdout",
     "output_type": "stream",
     "text": [
      "None\n"
     ]
    }
   ],
   "source": [
    "x_values = Northern_hemisphere[\"Lat\"]\n",
    "y_values = Northern_hemisphere[\"Wind Speed\"]\n",
    "plt.ylabel(\"Wind Speed\")\n",
    "print(linear_reg_plot(x_values,y_values))\n",
    "\n",
    "# As the latitude increases, the wind speed remains almost the same at the Northern Hemisphere. "
   ]
  },
  {
   "cell_type": "markdown",
   "metadata": {},
   "source": [
    "####  Southern Hemisphere - Wind Speed (mph) vs. Latitude Linear Regression"
   ]
  },
  {
   "cell_type": "code",
   "execution_count": 41,
   "metadata": {},
   "outputs": [
    {
     "name": "stdout",
     "output_type": "stream",
     "text": [
      "The r-squared is: -0.3357733028048196\n"
     ]
    },
    {
     "data": {
      "image/png": "[encoded data removed]",
      "text/plain": [
       "<Figure size 432x288 with 1 Axes>"
      ]
     },
     "metadata": {
      "needs_background": "light"
     },
     "output_type": "display_data"
    },
    {
     "name": "stdout",
     "output_type": "stream",
     "text": [
      "None\n"
     ]
    }
   ],
   "source": [
    "x_values = Southern_hemisphere[\"Lat\"]\n",
    "y_values = Southern_hemisphere[\"Wind Speed\"]\n",
    "plt.ylabel(\"Wind Speed\")\n",
    "print(linear_reg_plot(x_values,y_values))\n",
    "\n",
    "# There is an indirect correlation between latitude and wind speed at the Souther Hemisphere. As the latitude increases, the wind speed decreases. "
   ]
  },
  {
   "cell_type": "code",
   "execution_count": null,
   "metadata": {},
   "outputs": [],
   "source": []
  }
 ],
 "metadata": {
  "anaconda-cloud": {},
  "kernel_info": {
   "name": "python3"
  },
  "kernelspec": {
   "display_name": "Python 3",
   "language": "python",
   "name": "python3"
  },
  "language_info": {
   "codemirror_mode": {
    "name": "ipython",
    "version": 3
   },
   "file_extension": ".py",
   "mimetype": "text/x-python",
   "name": "python",
   "nbconvert_exporter": "python",
   "pygments_lexer": "ipython3",
   "version": "3.6.10"
  },
  "latex_envs": {
   "LaTeX_envs_menu_present": true,
   "autoclose": false,
   "autocomplete": true,
   "bibliofile": "biblio.bib",
   "cite_by": "apalike",
   "current_citInitial": 1,
   "eqLabelWithNumbers": true,
   "eqNumInitial": 1,
   "hotkeys": {
    "equation": "Ctrl-E",
    "itemize": "Ctrl-I"
   },
   "labels_anchors": false,
   "latex_user_defs": false,
   "report_style_numbering": false,
   "user_envs_cfg": false
  },
  "nteract": {
   "version": "0.12.3"
  }
 },
 "nbformat": 4,
 "nbformat_minor": 2
}
